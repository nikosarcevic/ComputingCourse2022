{
 "cells": [
  {
   "cell_type": "code",
   "execution_count": null,
   "id": "2ced27c4",
   "metadata": {},
   "outputs": [],
   "source": []
  },
  {
   "cell_type": "code",
   "execution_count": null,
   "id": "da40cefa",
   "metadata": {},
   "outputs": [],
   "source": []
  },
  {
   "cell_type": "code",
   "execution_count": null,
   "id": "73605166",
   "metadata": {},
   "outputs": [],
   "source": [
    "\n",
    "\n"
   ]
  },
  {
   "cell_type": "code",
   "execution_count": 2,
   "id": "6ddf6dc2",
   "metadata": {},
   "outputs": [
    {
     "name": "stdout",
     "output_type": "stream",
     "text": [
      "265\n",
      "12.611320754716981\n",
      "3.5512421425068976\n",
      "12.611320754716981\n"
     ]
    }
   ],
   "source": [
    "\n",
    "import pandas as pd\n",
    "data =pd.read_csv(\"Data labs  .csv\")\n",
    "\n",
    "\n",
    "N= data[\"N\"]\n",
    "\n",
    "\n",
    "af =data[\"a f \"] \n",
    "\n",
    "\n",
    "\n",
    "\n",
    "import numpy as np\n",
    "afall=np.sum(af)\n",
    "\n",
    "\n",
    "afall\n",
    "print(afall)\n",
    "m=np.sum(N*af)/np.sum(af)\n",
    "\n",
    "print(m)\n",
    "\n",
    "s= np.sqrt(m)\n",
    "\n",
    "\n",
    "print(s)\n",
    "\n",
    "\n",
    "v= s**2\n",
    "print(v)"
   ]
  },
  {
   "cell_type": "code",
   "execution_count": null,
   "id": "5c88e005",
   "metadata": {},
   "outputs": [],
   "source": [
    "\n",
    "\n"
   ]
  },
  {
   "cell_type": "code",
   "execution_count": null,
   "id": "1f4ccf1a",
   "metadata": {},
   "outputs": [],
   "source": []
  },
  {
   "cell_type": "code",
   "execution_count": null,
   "id": "5c804613",
   "metadata": {},
   "outputs": [],
   "source": [
    "\n",
    "\n"
   ]
  },
  {
   "cell_type": "code",
   "execution_count": null,
   "id": "09d8b293",
   "metadata": {},
   "outputs": [],
   "source": []
  },
  {
   "cell_type": "code",
   "execution_count": 3,
   "id": "22815b0a",
   "metadata": {},
   "outputs": [
    {
     "name": "stdout",
     "output_type": "stream",
     "text": [
      "0     0.003774\n",
      "1     0.007547\n",
      "2     0.022642\n",
      "3     0.030189\n",
      "4     0.037736\n",
      "5     0.098113\n",
      "6     0.083019\n",
      "7     0.101887\n",
      "8     0.128302\n",
      "9     0.086792\n",
      "10    0.094340\n",
      "11    0.090566\n",
      "12    0.079245\n",
      "13    0.071698\n",
      "14    0.026415\n",
      "15    0.015094\n",
      "16    0.007547\n",
      "17    0.003774\n",
      "18    0.011321\n",
      "Name: a f , dtype: float64\n",
      "1.0000000000000002\n",
      "0\n",
      "1\n",
      "2\n",
      "3\n",
      "4\n",
      "5\n",
      "6\n",
      "7\n",
      "8\n",
      "9\n",
      "10\n",
      "11\n",
      "12\n",
      "13\n",
      "14\n",
      "15\n",
      "16\n",
      "17\n",
      "18\n",
      "0.993146702621363\n",
      "1.0000000000000002\n"
     ]
    }
   ],
   "source": [
    "rf =af/np.sum(af)\n",
    "print(rf)\n",
    "    \n",
    "rfsum= np.sum(rf)\n",
    "\n",
    "print(rfsum)\n",
    "\n",
    "P=[]\n",
    "\n",
    "for i in range(0, len(N)):\n",
    "    \n",
    "    print(i)\n",
    "    P.append((m**N[i]) / np.math.factorial(N[i]) * np.exp(- m))\n",
    "\n",
    "Psum=np.sum(P, axis=0)\n",
    "\n",
    "\n",
    "\n",
    "print(Psum)\n",
    "\n",
    "print(rfsum)\n"
   ]
  },
  {
   "cell_type": "code",
   "execution_count": 4,
   "id": "dbf7eb5f",
   "metadata": {},
   "outputs": [
    {
     "data": {
      "text/plain": [
       "<matplotlib.legend.Legend at 0x7fe842ccdc50>"
      ]
     },
     "execution_count": 4,
     "metadata": {},
     "output_type": "execute_result"
    },
    {
     "data": {
      "image/png": "[encoded data removed]",
      "text/plain": [
       "<Figure size 432x288 with 1 Axes>"
      ]
     },
     "metadata": {
      "needs_background": "light"
     },
     "output_type": "display_data"
    }
   ],
   "source": [
    "import matplotlib.pyplot as plt\n",
    "plt.bar(N, af)\n",
    "\n",
    "\n",
    "\n",
    "\n",
    "Pr = [] \n",
    "for i in P:\n",
    "    Pr.append(i * np.sum(af)) \n",
    "\n",
    "plt.scatter(N, Pr)\n",
    "plt.plot(N, Pr)\n",
    "\n",
    "labels =[\"histogram\", \"fit \", \"poisson distribution\"]\n",
    "\n",
    "plt.legend(labels)"
   ]
  }
 ],
 "metadata": {
  "hide_input": false,
  "kernelspec": {
   "display_name": "Python 3",
   "language": "python",
   "name": "python3"
  },
  "language_info": {
   "codemirror_mode": {
    "name": "ipython",
    "version": 3
   },
   "file_extension": ".py",
   "mimetype": "text/x-python",
   "name": "python",
   "nbconvert_exporter": "python",
   "pygments_lexer": "ipython3",
   "version": "3.7.6"
  },
  "latex_envs": {
   "LaTeX_envs_menu_present": true,
   "autoclose": false,
   "autocomplete": true,
   "bibliofile": "biblio.bib",
   "cite_by": "apalike",
   "current_citInitial": 1,
   "eqLabelWithNumbers": true,
   "eqNumInitial": 1,
   "hotkeys": {
    "equation": "Ctrl-E",
    "itemize": "Ctrl-I"
   },
   "labels_anchors": false,
   "latex_user_defs": false,
   "report_style_numbering": false,
   "user_envs_cfg": false
  },
  "toc": {
   "base_numbering": 1,
   "nav_menu": {},
   "number_sections": true,
   "sideBar": true,
   "skip_h1_title": false,
   "title_cell": "Table of Contents",
   "title_sidebar": "Contents",
   "toc_cell": false,
   "toc_position": {
    "height": "calc(100% - 180px)",
    "left": "10px",
    "top": "150px",
    "width": "165px"
   },
   "toc_section_display": true,
   "toc_window_display": true
  }
 },
 "nbformat": 4,
 "nbformat_minor": 5
}
