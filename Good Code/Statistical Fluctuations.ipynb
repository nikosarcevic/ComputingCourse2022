{
 "cells": [
  {
   "cell_type": "code",
   "execution_count": 1,
   "id": "3ef34d2d",
   "metadata": {},
   "outputs": [],
   "source": [
    "# Niko Sarcevic\n",
    "# October 2022\n",
    "# https://github.com/nikosarcevic"
   ]
  },
  {
   "cell_type": "code",
   "execution_count": 2,
   "id": "3bf0132d",
   "metadata": {},
   "outputs": [
    {
     "data": {
      "text/html": [
       "<style>.container { width:100% !important; } </style>"
      ],
      "text/plain": [
       "<IPython.core.display.HTML object>"
      ]
     },
     "metadata": {},
     "output_type": "display_data"
    }
   ],
   "source": [
    "from IPython.display import IFrame, display, HTML, Image\n",
    "display(HTML('<style>.container { width:100% !important; } </style>'))"
   ]
  },
  {
   "cell_type": "markdown",
   "id": "00d5aab0",
   "metadata": {},
   "source": [
    "# Introduction"
   ]
  },
  {
   "cell_type": "markdown",
   "id": "97be2d4a",
   "metadata": {},
   "source": [
    "*This is a sample notebook, created for the purposes of showing \"good code practices\" for a level appropriate for a physics undergraduate.\n",
    "The experiment used as a showcase is a nucelar physics experiment with data acquired by the author.*"
   ]
  },
  {
   "cell_type": "markdown",
   "id": "11ec79ad",
   "metadata": {},
   "source": [
    "## A short bit on errors"
   ]
  },
  {
   "cell_type": "markdown",
   "id": "28f8128c",
   "metadata": {},
   "source": [
    "A measurement error (experimental or observation error) is the difference between an *observed value* and the *true value* of something (that we are measuring).\n",
    "\n",
    "There are two main types of measurement error:\n",
    "\n",
    "- **random error** is a chance difference between the observed and true values of something (*e.g.* misreading the value on a ruler).\n",
    "- **systematic error** is a consistent difference between the observed and true values of stuff we are measuring. This can be due to bad calibration, poor understanding of the nature of the problem (*e.g.* physics), etc.\n",
    "\n",
    "Understanding the errors and their nature can mitigate their impact.\n",
    "We want accurate and precise measurements.\n",
    "\n",
    "Accuracy and precision are two measures of observational error. \n",
    "- **accuracy** is how close a given set of measurements (observations or readings) are to their true value\n",
    "- **precision** is how close the measurements are to each other\n",
    "\n",
    "Accuracy is the proximity of measurement results to the accepted value; precision is the degree to which repeated (or reproducible) measurements under unchanged conditions show the same results.\n",
    "\n",
    "*this paragraph was adopted (and modified) from Wikipedia https://en.wikipedia.org/wiki/Accuracy_and_precision*"
   ]
  },
  {
   "cell_type": "code",
   "execution_count": 3,
   "id": "1e02da70",
   "metadata": {},
   "outputs": [
    {
     "data": {
      "text/html": [
       "\n",
       "        <iframe\n",
       "            width=\"500\"\n",
       "            height=\"300\"\n",
       "            src=\"pics/precision-vs-accuracy.png\"\n",
       "            frameborder=\"0\"\n",
       "            allowfullscreen\n",
       "        ></iframe>\n",
       "        "
      ],
      "text/plain": [
       "<IPython.lib.display.IFrame at 0x7fc3f6520850>"
      ]
     },
     "execution_count": 3,
     "metadata": {},
     "output_type": "execute_result"
    }
   ],
   "source": [
    "IFrame(\"pics/precision-vs-accuracy.png\", width=500, height=300)\n",
    "#https://danielmiessler.com/blog/difference-precision-accuracy/"
   ]
  },
  {
   "cell_type": "code",
   "execution_count": 4,
   "id": "4649dd85",
   "metadata": {},
   "outputs": [
    {
     "data": {
      "text/html": [
       "\n",
       "        <iframe\n",
       "            width=\"500\"\n",
       "            height=\"300\"\n",
       "            src=\"pics/Accuracy_and_precision.png\"\n",
       "            frameborder=\"0\"\n",
       "            allowfullscreen\n",
       "        ></iframe>\n",
       "        "
      ],
      "text/plain": [
       "<IPython.lib.display.IFrame at 0x7fc3f6520c50>"
      ]
     },
     "execution_count": 4,
     "metadata": {},
     "output_type": "execute_result"
    }
   ],
   "source": [
    "IFrame(\"pics/Accuracy_and_precision.png\", width=500, height=300)\n",
    "#https://en.wikipedia.org/wiki/Accuracy_and_precision"
   ]
  },
  {
   "cell_type": "markdown",
   "id": "4e610e1c",
   "metadata": {},
   "source": [
    "## A little bit of physics"
   ]
  },
  {
   "cell_type": "markdown",
   "id": "079e48d8",
   "metadata": {},
   "source": [
    "Let us have a good example from nuclear physics: radioactive decay. \n",
    "\n",
    "The decay rate of a (radio)nuclide is called *activity*:\n",
    "$\n",
    "\\begin{align}\n",
    "A = \\lambda N\n",
    "\\end{align}\n",
    "$\n",
    "where\n",
    "- $\\lambda$ is the decay constant (probability of each atom undergoing radioactive decay)\n",
    "- $N$ is the total number of radioactive atoms\n",
    "Activity has units of disintegrations per second (decays per second).\n",
    "\n",
    "Now, you see, we have a bit of a complex problem because we talked about errors, accuracy and precision and here we are dealing with something stochastic (statistical) in nature -- the activity of the sample that we want to measure will decay with a certain probability! So, in order to tackle this problem, we need to understand the nature and physics behind it.\n",
    "\n",
    "What do we want to answer?\n",
    "Which activity (intensity) will be the most probably and with which error will it be measured?\n",
    "\n",
    "Luckily, we have a a help from our good old friend: the statistics (the stats).\n"
   ]
  },
  {
   "cell_type": "markdown",
   "id": "8396add1",
   "metadata": {},
   "source": [
    "## The stats"
   ]
  },
  {
   "cell_type": "markdown",
   "id": "f43b043c",
   "metadata": {},
   "source": [
    "In reality, it is not always straightforward or possible to obtain a distribution function of a random variable $X$. The next best thing is to charaterise the distribution with the distribution parameters. \n",
    "\n",
    "The basic distribution parameters are: **the expectation value $\\mu$** and **the variance (dispersion) $\\sigma^2$**.\n",
    "\n",
    "The expectation value $\\mu$ of a random variable $X$ can take all the values $x_i$ with a probability $p_i, (i = 1, 2, 3, ...)$ and is defined as:\n",
    "$\n",
    "\\begin{align}\n",
    "\\mu = \\sum \\limits _{i=1} ^\\infty x_i p_i\n",
    "\\end{align}\n",
    "$\n",
    "\n",
    "The variance tell us how far a set of numbers is spread out from their average value (a mesure of dispersion), or written mathematically:\n",
    "$\n",
    "\\begin{align}\n",
    "\\sigma^2 = \\sum \\limits _{i=1} ^\\infty (x_i - \\mu)^2 p_i\n",
    "\\end{align}\n",
    "$\n",
    "\n",
    "The square root of variance is the **standard deviation** $\\sigma$.\n",
    "\n",
    "If we are dealing with a small number (sample) of random variable, then the distribution of the discrete random variable will be described with a Poisson distribution. For example, the number of chewing gums on a single tile is approximately Poisson distributed.\n",
    "The mathematical form of the Poisson distribution is:\n",
    "$\n",
    "\\begin{align}\n",
    "P (N) = \\frac{\\overline N ^N}{N !} e^{- \\overline N}\n",
    "\\end{align}\n",
    "$\n",
    "where $N$ is a random discrete variable and $\\overline N$ is its mean.\n",
    "\n",
    "Both the expectation value and the variance are the equal to the mean in the case of the Poisson distribution:\n",
    "\n",
    "$\n",
    "\\begin{align}\n",
    "\\mu = \\overline N \\; \\; \\mathrm{and} \\; \\; \\sigma^2 = \\overline N\n",
    "\\end{align}\n",
    "$\n",
    "The standard deviation is then:\n",
    "\n",
    "$\n",
    "\\begin{align}\n",
    "\\sigma = \\pm \\sqrt{\\overline N}\n",
    "\\end{align}\n",
    "$\n",
    "\n",
    "When the expecation value is $\\overline N \\gt 20$, Poisson distribution tends toward a Gaussian distribution:\n",
    "\n",
    "$\n",
    "\\begin{align}\n",
    "P (N) = \\frac{1}{\\sqrt{2 \\pi \\overline N}} e^{- \\frac{(N - \\overline N)^2}{2 N}}\n",
    "\\end{align}\n",
    "$\n",
    "\n",
    "\n",
    "Now, going back to errors, it is handy to mention a **relative error $\\delta$**. Relative error is defined as:\n",
    "\n",
    "$\n",
    "\\begin{align}\n",
    "\\delta = \\frac{\\sigma}{\\overline N} = \\frac{1}{\\sqrt{\\overline N}}\n",
    "\\end{align}\n",
    "$\n",
    "\n",
    "This is pretty useful as by using this expression, we can determine the count $N$ necessary to have measurements with desired precision. For example, if we want the measurement error to be 1%, then $\\delta = 0.01$ and the count $N$ should be:\n",
    "\n",
    "$\n",
    "\\begin{align}\n",
    "N = \\frac{1}{\\delta^2} = \\frac{1}{0.01^2} = 10^4\n",
    "\\end{align}\n",
    "$"
   ]
  },
  {
   "cell_type": "markdown",
   "id": "cc3a2df9",
   "metadata": {},
   "source": [
    "## Experimental method"
   ]
  },
  {
   "cell_type": "markdown",
   "id": "1529e1f9",
   "metadata": {},
   "source": [
    "Use a GM counter and appropriate electronics. Alternatively, use a scintillation detector.\n",
    "Do a series of measurements up to 400. Choose a time interval so that the count corresponds to $\\overline N \\approx 7 - 8$ impulses."
   ]
  },
  {
   "cell_type": "markdown",
   "id": "bca65af2",
   "metadata": {},
   "source": [
    "# Data processing"
   ]
  },
  {
   "cell_type": "markdown",
   "id": "798ab2ba",
   "metadata": {},
   "source": [
    "First, we import the necessary libraries. It is always a good idea to nest them together rather than have them all over the place:"
   ]
  },
  {
   "cell_type": "code",
   "execution_count": 5,
   "id": "73605166",
   "metadata": {},
   "outputs": [],
   "source": [
    "import numpy as np\n",
    "import pandas as pd\n",
    "import matplotlib.pyplot as plt\n",
    "import poisson_functions as pf"
   ]
  },
  {
   "cell_type": "markdown",
   "id": "e7383e06",
   "metadata": {},
   "source": [
    "We first load our dataset. I personally prefer pandas for this. You can use numpy if you like."
   ]
  },
  {
   "cell_type": "code",
   "execution_count": 6,
   "id": "6ddf6dc2",
   "metadata": {},
   "outputs": [],
   "source": [
    "# load the data\n",
    "data = pd.read_csv(\"Statistical Fluctuations Data.csv\")\n",
    "\n",
    "# check the data (remove # in the next line to check the data)\n",
    "#data\n",
    "\n",
    "# set the variables\n",
    "counts = data[\"counts\"] # N, counts\n",
    "abs_freq = data[\"absolute frequency\"] # absolute frequency\n",
    "\n",
    "# calculate the sum of absolute frequencies\n",
    "abs_freq_sum = np.sum(abs_freq)\n",
    "# check if the sum is correct (remove # in the next line to check the sum)\n",
    "#print(f\"my absolute frequency sum is: {abs_freq_sum}\")\n"
   ]
  },
  {
   "cell_type": "markdown",
   "id": "2ce83e59",
   "metadata": {},
   "source": [
    "Now we need to get some stats.\n",
    "The basics are: the expectation value $\\mu$ and the standard deviation (std) $\\sigma$.\n",
    "\n",
    "As mentioned above, in the case of the Poisson distribution, the expectation value is equal to the mean and is caclulated as:\n",
    "\n",
    "$\n",
    "\\begin{align}\n",
    "\\mu = \\overline N = \\frac{1}{n} \\sum \\limits _i ^ N N_i = \\frac{\\sum \\limits _i ^ N N_i f_i}{\\sum \\limits _i ^ N f_i}\n",
    "\\end{align}\n",
    "$\n",
    "\n",
    "while the standard deviation is:\n",
    "\n",
    "$\n",
    "\\begin{align}\n",
    "\\sigma = \\pm \\sqrt{\\overline N}\n",
    "\\end{align}\n",
    "$\n"
   ]
  },
  {
   "cell_type": "code",
   "execution_count": 7,
   "id": "351562c9",
   "metadata": {},
   "outputs": [
    {
     "name": "stdout",
     "output_type": "stream",
     "text": [
      "my mean is: 12.6\n",
      "my std is: ± 3.6\n",
      "my variance is: 12.6\n"
     ]
    }
   ],
   "source": [
    "# get some stats here\n",
    "\n",
    "# calculate the mean\n",
    "mean = np.sum(counts * abs_freq) / np.sum(abs_freq)\n",
    "# check the mean (remove # in the next line to check)\n",
    "print(f\"my mean is: {mean:.1f}\")\n",
    "    \n",
    "# calculate the standard deviation (std)\n",
    "std = np.sqrt(mean)\n",
    "# check the std (remove # in the next line to check)\n",
    "print(f\"my std is: \\u00B1 {std:.1f}\")\n",
    "\n",
    "# calculate the variance\n",
    "variance = std**2\n",
    "# check the std (remove # in the next line to check)\n",
    "print(f\"my variance is: {variance:.1f}\")"
   ]
  },
  {
   "cell_type": "code",
   "execution_count": null,
   "id": "6939f0ef",
   "metadata": {},
   "outputs": [],
   "source": [
    "# test run my function to see if it work\n",
    "#poiss_test = pf.get_poisson_probs(mean, counts) # just named it poiss\n",
    "\n",
    "# do some checks (uncomment to check) \n",
    "#print(f\"these are my poisson probabilities: {poiss_test}\")\n",
    "#print(\"--------------------------\")\n",
    "#print(f\"the length of my poisson test list is: {len(poiss_test)}\")"
   ]
  },
  {
   "cell_type": "code",
   "execution_count": 8,
   "id": "1956c387",
   "metadata": {},
   "outputs": [
    {
     "name": "stdout",
     "output_type": "stream",
     "text": [
      "the sum of relative frequencies is: 1.0000000000000002\n",
      "the sum of poissonian probabilities is: 0.993146702621363\n"
     ]
    }
   ],
   "source": [
    "# compare the sum of relative frequencies and the sum of the probabilities from the poisson distribution.\n",
    "# they should be close to unity\n",
    "\n",
    "# here we obtain the relative frequency\n",
    "rel_freq = pf.get_relative_frequency(abs_freq)\n",
    "# here we obtain the sum of the relative frequencies\n",
    "rel_freq_sum = np.sum(rel_freq)\n",
    "\n",
    "# here we obtain the poisson probabilities\n",
    "poisson_probs = pf.get_poisson_probs(mean, counts)\n",
    "# here we obtain the sum of the probabilities\n",
    "poisson_probs_sum = np.sum(poisson_probs, axis=0)\n",
    "\n",
    "# now we compare the two:\n",
    "print(f\"the sum of relative frequencies is: {rel_freq_sum}\")\n",
    "print(f\"the sum of poissonian probabilities is: {poisson_probs_sum}\")\n"
   ]
  },
  {
   "cell_type": "markdown",
   "id": "f87f1696",
   "metadata": {},
   "source": [
    "## Plot"
   ]
  },
  {
   "cell_type": "code",
   "execution_count": 9,
   "id": "dbf7eb5f",
   "metadata": {},
   "outputs": [
    {
     "data": {
      "image/png": "[encoded data removed]",
      "text/plain": [
       "<Figure size 720x504 with 1 Axes>"
      ]
     },
     "metadata": {
      "needs_background": "light"
     },
     "output_type": "display_data"
    }
   ],
   "source": [
    "# set the figure props\n",
    "fig = plt.figure(figsize=(10,7))\n",
    "\n",
    "# plot the measurements as a histogram\n",
    "plt.bar(counts, abs_freq, color=\"orange\", label=\"Data\")\n",
    "\n",
    "# rescale the poisson probabilities\n",
    "poisson_probs_rescaled = [] # make an empty list\n",
    "for i in poisson_probs:\n",
    "    poisson_probs_rescaled.append(i * np.sum(abs_freq)) # append to list\n",
    "\n",
    "# plot the rescaled poisson probabilities\n",
    "plt.scatter(counts, poisson_probs_rescaled, c=\"k\", label=\"Poisson probabilities (re-scaled)\")\n",
    "\n",
    "# plot the poisson distribution\n",
    "plt.plot(counts, poisson_probs_rescaled, c=\"k\", lw=3, label=\"Poisson distribution\")\n",
    "\n",
    "# set the plot props: legend, axes labels\n",
    "plt.legend()\n",
    "plt.xlabel(\"Counts\", fontsize=15)\n",
    "plt.ylabel(\"Absolute frequency\", fontsize=15)\n",
    "\n",
    "# save the figure\n",
    "plt.savefig(\"PoissonFit.pdf\")"
   ]
  },
  {
   "cell_type": "markdown",
   "id": "e01f7b1a",
   "metadata": {},
   "source": [
    "From the plot, it can be seen that the measured counts for the radioactive decay can be described with Poisson probabilities. In the case of source used, the obtained probabilities correspond to the Poisson distribution with distribution parameters:"
   ]
  },
  {
   "cell_type": "code",
   "execution_count": 10,
   "id": "ab50a420",
   "metadata": {},
   "outputs": [
    {
     "name": "stdout",
     "output_type": "stream",
     "text": [
      "expectation value: 12.6\n",
      "standard deviation: 3.6\n",
      "variance: 12.6\n"
     ]
    }
   ],
   "source": [
    "print(f\"expectation value: {mean:.1f}\")\n",
    "print(f\"standard deviation: {std:.1f}\")\n",
    "print(f\"variance: {variance:.1f}\")"
   ]
  }
 ],
 "metadata": {
  "hide_input": false,
  "kernelspec": {
   "display_name": "Python 3",
   "language": "python",
   "name": "python3"
  },
  "language_info": {
   "codemirror_mode": {
    "name": "ipython",
    "version": 3
   },
   "file_extension": ".py",
   "mimetype": "text/x-python",
   "name": "python",
   "nbconvert_exporter": "python",
   "pygments_lexer": "ipython3",
   "version": "3.7.6"
  },
  "latex_envs": {
   "LaTeX_envs_menu_present": true,
   "autoclose": false,
   "autocomplete": true,
   "bibliofile": "biblio.bib",
   "cite_by": "apalike",
   "current_citInitial": 1,
   "eqLabelWithNumbers": true,
   "eqNumInitial": 1,
   "hotkeys": {
    "equation": "Ctrl-E",
    "itemize": "Ctrl-I"
   },
   "labels_anchors": false,
   "latex_user_defs": false,
   "report_style_numbering": false,
   "user_envs_cfg": false
  },
  "toc": {
   "base_numbering": 1,
   "nav_menu": {},
   "number_sections": true,
   "sideBar": true,
   "skip_h1_title": false,
   "title_cell": "Table of Contents",
   "title_sidebar": "Contents",
   "toc_cell": false,
   "toc_position": {
    "height": "calc(100% - 180px)",
    "left": "10px",
    "top": "150px",
    "width": "165px"
   },
   "toc_section_display": true,
   "toc_window_display": true
  }
 },
 "nbformat": 4,
 "nbformat_minor": 5
}
